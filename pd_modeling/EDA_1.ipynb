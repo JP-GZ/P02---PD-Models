{
 "cells": [
  {
   "cell_type": "markdown",
   "id": "8cbd9711",
   "metadata": {},
   "source": [
    "## EDA \n"
   ]
  },
  {
   "cell_type": "code",
   "execution_count": 1,
   "id": "acd2c0be",
   "metadata": {},
   "outputs": [],
   "source": [
    "# Importando las librerias \n",
    "import pandas as pd\n",
    "import numpy as np \n",
    "import matplotlib.pyplot as plt \n",
    "import seaborn  as sns "
   ]
  },
  {
   "cell_type": "markdown",
   "id": "4e92c592",
   "metadata": {},
   "source": [
    "1.- Importamos los datos."
   ]
  },
  {
   "cell_type": "code",
   "execution_count": 2,
   "id": "7ede9c4e",
   "metadata": {},
   "outputs": [
    {
     "name": "stderr",
     "output_type": "stream",
     "text": [
      "C:\\Users\\pablo.zaragoza\\AppData\\Local\\Temp\\ipykernel_1928\\3464224186.py:1: DtypeWarning: Columns (18) have mixed types. Specify dtype option on import or set low_memory=False.\n",
      "  DataCredit = pd.read_csv(\"credit_risk_data_v2.csv\")\n"
     ]
    }
   ],
   "source": [
    "DataCredit = pd.read_csv(\"credit_risk_data_v2.csv\")"
   ]
  },
  {
   "cell_type": "code",
   "execution_count": null,
   "id": "0f254b62",
   "metadata": {},
   "outputs": [],
   "source": []
  },
  {
   "cell_type": "code",
   "execution_count": null,
   "id": "e5d5aaca",
   "metadata": {},
   "outputs": [],
   "source": []
  },
  {
   "cell_type": "code",
   "execution_count": null,
   "id": "fc513759",
   "metadata": {},
   "outputs": [],
   "source": []
  }
 ],
 "metadata": {
  "kernelspec": {
   "display_name": "Python 3 (ipykernel)",
   "language": "python",
   "name": "python3"
  },
  "language_info": {
   "codemirror_mode": {
    "name": "ipython",
    "version": 3
   },
   "file_extension": ".py",
   "mimetype": "text/x-python",
   "name": "python",
   "nbconvert_exporter": "python",
   "pygments_lexer": "ipython3",
   "version": "3.9.7"
  }
 },
 "nbformat": 4,
 "nbformat_minor": 5
}
